{
 "cells": [
  {
   "cell_type": "markdown",
   "metadata": {
    "id": "XaG9JcL_f3So"
   },
   "source": [
    "## Introduction"
   ]
  },
  {
   "cell_type": "markdown",
   "metadata": {
    "id": "fgianoU6f7dQ"
   },
   "source": [
    "This is a package that offers the feature of automatic differentiation.\n",
    "\n",
    "Automatic differentiation is useful in many fields, including but not limit to:\n",
    "\n",
    "- Calculation of derivatives when using some iterative methods to solve linear systems\n",
    "- Calculation of the gradient of an objective function in optimization\n",
    "- Calculation of derivatives/gradients which are parts of some numerical methods to solve differential equation systems\n",
    "\n",
    "Automatic differentiation is better than other differencing methods like finite-difference because it is much cheaper. Finite differences are expensive, since you need to do a forward pass for each derivative. Automatic differentiation is both efficient (linear in the cost of computing the value) and numerically stable. Traditional methods of differentiation such as symbolic differentiation do not scale well to vector functions with multiple variable inputs, which are widely used to solve real world problems.\n",
    "\n",
    "The functions and features in this package can evaluate derivatives/gradients of specified expressions and free users from manual calculation."
   ]
  },
  {
   "cell_type": "markdown",
   "metadata": {
    "id": "t-nMlbFtgERP"
   },
   "source": [
    "## Background"
   ]
  },
  {
   "cell_type": "markdown",
   "metadata": {
    "id": "Dd6qb5UZgFlT"
   },
   "source": [
    "For a function, even a complicated one, the computer is able to compute its derivatives by breaking it down into smaller parts, applying chain rule to the elementary operations, and calculate intermerdiate results at each step.\n",
    "\n",
    "In the graph structure of such calculation, each node is an intermediate result, and each arrow is an elementary operation. An elementary operation are such as addition, subtraction, multiplication, division, or taking exponential, log, sine, cosine, etc. In short, AD represent a function as a composition of elementary functions through elemtary operations by a sequence of intermediate values.\n",
    "\n",
    "An example is provided below.\n",
    "\n",
    "\\begin{aligned}\n",
    "&f(x,y) = \\sin(x) - y^2, \\quad v_{-1} = x, \\quad v_0 = y \\\\\n",
    "&v_1 = \\sin(v_{-1}) = \\sin(x), \\quad v_2 = v_0^2 = y^2, v_3 = -v_2 = -y^2, \\quad v_4 = v_1 + v_3 = \\sin(x) - y^2 = f(x,y)\n",
    "\\end{aligned}"
   ]
  },
  {
   "cell_type": "markdown",
   "metadata": {
    "id": "kMzCSDidhHvR"
   },
   "source": [
    "[AD structure can be visualized as nodes connected by arrows]"
   ]
  },
  {
   "cell_type": "markdown",
   "metadata": {
    "id": "Gzs4kfxPgzHW"
   },
   "source": [
    "There are two modes of Automatic Differentiation: one is Forward Mode, and the other is Reverse Mode."
   ]
  },
  {
   "cell_type": "markdown",
   "metadata": {
    "id": "z-TkKmp4gzQ9"
   },
   "source": [
    "\n",
    "\n",
    "In forward mode, AD starts from the inputs and work towards the outputs, evaluating the value of each intermediate value along with its derivative with respect to a fixed input variable using the chain rule.\n",
    "\n",
    "$$\\dot{v}_k = \\frac{\\partial{v_k}}{\\partial{x_i}} = \\sum_{v_m \\in \\text{parent}(v_k)} \\frac{\\partial{v_k}}{\\partial{v_m}} \\frac{\\partial{v_m}}{\\partial{x_i}} = \\sum_{v_m \\in \\text{parent}(v_k)} \\frac{\\partial{v_k}}{\\partial{v_m}} \\dot{v}_m$$\n",
    "\n",
    "In the example above, a trace table for forward AD would look like the following to compute and store intermediate values and derivatives:\n",
    "\n",
    "| Trace | Elementary Function | Current Value|Elementary Function Derivative | $\\nabla_x$ Value | $\\nabla_y$ Value |\n",
    "| :------------------: | :-------------------: | :------------: | :------------: | :------------: | :------------: |\n",
    "| $v_{-1}$ | $x$ | $x$ |$\\dot v_{-1} = \\dot x$ | $1$ | $0$ |\n",
    "| $v_0$ | $y$ | $y$ | $\\dot v_0 = \\dot y$ | $0$ | $1$ |\n",
    "| $v_1$ | $sin(v_{-1})$ | $sin(x)$ | $\\dot v_1 = cos(v_{-1}) \\cdot \\dot v_{-1}$ | $cos(x)$ | $0$ |\n",
    "| $v_2$ | $v_0^2$ | $y^2$ | $\\dot v_2 = 2v_0 \\dot v_0$ | $0$ | $2y$ |\n",
    "| $v_3$ | $-v_2$ | $-y^2$ | $\\dot v_3 = -\\dot v_2$ | $0$ | $-2y$ |\n",
    "| $v_4$ | $v_1+v_3$ | $sin(x)-y^2$ | $\\dot v_3 = \\dot v_1 + \\dot v_3$ | $cos(x)$ | $-2y$ |\n",
    "|<img width=50/>|<img width=80/>|<img width=80/>|<img width=150/>|<img width=50/>|<img width=50/>|\n",
    "\n"
   ]
  },
  {
   "cell_type": "markdown",
   "metadata": {
    "id": "-qzNyf4XhdkZ"
   },
   "source": [
    "In reverse mode, AD starts from the inputs to do a forward pass to calculate all the intermediate values, and then starts from the outputs to do a reverse pass to compute the derivatives of the function with respect to the intermediate values backwards using the chain rule.\n",
    "\n",
    "$$\\bar{v}_k = \\frac{\\partial{f}}{\\partial{v_k}} = \\sum_{v_n \\in \\text{child}(v_k)} \\frac{\\partial{f}}{\\partial{v_n}} \\frac{\\partial{v_n}}{\\partial{v_k}} = \\sum_{v_n \\in \\text{child}(v_k)} \\bar{v}_n \\frac{\\partial{v_n}}{\\partial{v_k}}$$\n",
    "\n",
    "| Forward pass: | Intermediate | Partial Derivatives | | Reverse pass:  | Adjoint |   |   |\n",
    "| :------------------: | :------------------- |:------------ | :------------ | :------------: | :------------ | :------------ |:------------ |\n",
    "| $\\downarrow$ | $v_{-1}=x$| | | $\\uparrow$ | $\\bar{v}_{-1} = \\frac{\\partial{f}}{\\partial{v_{-1}}} = \\frac{\\partial{f}}{\\partial{v_1}}\\frac{\\partial{v_1}}{\\partial{v_{-1}}} = \\bar{v_1} \\frac{\\partial{v_1}}{\\partial{v_{-1}}} =cos(x)$ | \n",
    "| $\\downarrow$ | $v_0=y$| | | $\\uparrow$ | $\\bar{v}_0 = \\frac{\\partial{f}}{\\partial{v_0}} = \\frac{\\partial{f}}{\\partial{v_2}}\\frac{\\partial{v_2}}{\\partial{v_0}} = \\bar{v_2} \\frac{\\partial{v_2}}{\\partial{v_0}} =-2y$ | \n",
    "| $\\downarrow$ | $v_1=sin(v_{-1})$| $\\frac{\\partial{v_1}}{\\partial{v_{-1}}} = cos(v_{-1}) = cos(x)$ | | $\\uparrow$ | $\\bar{v}_1 = \\frac{\\partial{f}}{\\partial{v_1}} = \\frac{\\partial{f}}{\\partial{v_4}}\\frac{\\partial{v_4}}{\\partial{v_1}} = \\bar{v_4} \\frac{\\partial{v_4}}{\\partial{v_1}} =1$ | \n",
    "| $\\downarrow$ | $v_2=v_0^2$| $\\frac{\\partial{v_2}}{\\partial{v_0}} = 2v_0=2y$ | | $\\uparrow$ | $\\bar{v}_2 = \\frac{\\partial{f}}{\\partial{v_2}} = \\frac{\\partial{f}}{\\partial{v_3}}\\frac{\\partial{v_3}}{\\partial{v_2}} = \\bar{v_3} \\frac{\\partial{v_3}}{\\partial{v_2}} =-1$ | \n",
    "| $\\downarrow$ | $v_3=-v_2$| $\\frac{\\partial{v_3}}{\\partial{v_2}} = -1$ | | $\\uparrow$ | $\\bar{v}_3 = \\frac{\\partial{f}}{\\partial{v_3}} = \\frac{\\partial{f}}{\\partial{v_4}}\\frac{\\partial{v_4}}{\\partial{v_3}} = \\bar{v_4} \\frac{\\partial{v_4}}{\\partial{v_3}} =1$ | \n",
    "| $\\downarrow$ | $v_4=v_1+v_3$| $\\frac{\\partial{v_4}}{\\partial{v_1}} = 1$, $\\frac{\\partial{v_4}}{\\partial{v_3}} = 1$ | | $\\uparrow$ | $\\bar{v}_4 = \\frac{\\partial{f}}{\\partial{v_4}} = \\frac{\\partial{v_4}}{\\partial{v_4}} = 1 $ | \n",
    "|<img width=10/>|<img width=120/>|<img width=200/>|<img width=10/>|<img width=10/>|<img width=260/>|<img width=5/>|<img width=5/>|\n"
   ]
  },
  {
   "cell_type": "markdown",
   "metadata": {
    "id": "_Xm3CubshoTg"
   },
   "source": [
    "## How to use"
   ]
  },
  {
   "cell_type": "markdown",
   "metadata": {
    "id": "dIjWdwVuhqRK"
   },
   "source": [
    "### Installation\n",
    "\n",
    "```python\n",
    "python -m pip install -i https://test.pypi.org/simple/cs107_ADpackage\n",
    "```\n",
    "\n",
    "You are recommended to use the package under Python version 3.6.2 or later."
   ]
  },
  {
   "cell_type": "markdown",
   "metadata": {
    "id": "AhbPCVrvhw0g"
   },
   "source": [
    "### Demo\n",
    "\n",
    "Import package\n",
    "\n",
    "```python\n",
    "import cs107_ADpackage as ad\n",
    "```\n",
    "\n",
    "Specify the problem as a string. (AD graph structure visualization functionality will be added later.)\n",
    "\n",
    "```python\n",
    "f_expression = '3*sin(x)+4'\n",
    "```\n",
    "\n",
    "Get the first derivatives of the function using forward propagation.\n",
    "\n",
    "```python\n",
    "value, derivative = ad.derive(func_expr='3*sin(x)+4', varname='x', value=np.pi, mode='forward')\n",
    "print(value, derivative)\n",
    "```"
   ]
  },
  {
   "cell_type": "markdown",
   "metadata": {
    "id": "1-DPmu94jirq"
   },
   "source": [
    "## Software Organizatoin\n",
    "\n",
    "### Directory Structure\n",
    "\n",
    "```\n",
    "cs107project/\n",
    "    LICENSE\n",
    "    README.md\n",
    "    src/\n",
    "        cs107_package\n",
    "            __init__.py\n",
    "            __main__.py\n",
    "            fowardNode.py\n",
    "            reverseNode.py\n",
    "            utils.py    \n",
    "    docs/\n",
    "        milestone1\n",
    "        milestone2_progress\n",
    "        milestone2\n",
    "    tests/\n",
    "        __init__.py\n",
    "        test.py\n",
    "        test_forwardNode.py\n",
    "        test_reverseNode.py\n",
    "        test_rootFind.py\n",
    "    .travis.yml\n",
    "```\n",
    "\n",
    "### Included Modules and their Basic Functionality\n",
    "\n",
    "We plan on using NumPy, Matplotlib, PyTest and PyTorch. We intend to use NumPy to create matrices and perform elementary calculations, Matplotlib to properly portray graphical structures of functions consisting of elementray operations, PyTest to run tests on our new code, and PyTorch to perform benchmarks on these tests.\n",
    "\n",
    "### Test Suite\n",
    "Our test suite will live a test file /tests directory and it will be tested by TravisCI.\n",
    "\n",
    "### Package Distribution\n",
    "We will distribute our package by uploading it to PyPI so everyone can use it.\n",
    "\n",
    "### Notes\n",
    "We will not be packing out software. The code will be on GitHub and PyPI so it will be accessible by everyone.\n",
    "\n",
    "As of right now we are still working on this project, so we could potentially make changes to the software later."
   ]
  },
  {
   "cell_type": "markdown",
   "metadata": {
    "id": "VHESjsvsjojQ"
   },
   "source": [
    "## Implementation"
   ]
  },
  {
   "cell_type": "markdown",
   "metadata": {
    "id": "AOjasso1YfIP"
   },
   "source": [
    "### Core Data Structures\n",
    "\n",
    "Node structure that is able to represent all the intermediate function expressions. Every instance of a Node stores the actual value of the variable, a derivative/gradient related attribute, as well as children/parents of this node."
   ]
  },
  {
   "cell_type": "markdown",
   "metadata": {
    "id": "TzyEc-U6aLaU"
   },
   "source": [
    "### Classes\n",
    "\n",
    "1. `class ForwardNode`: This is the most generic base class to accomodate for the different nodes in the AD structure in Forward Mode. \n",
    "\n",
    "2. `class ReverseNode`: This is the most generic base class to accomodate for the different nodes in the AD structure in Reverse Mode. \n",
    "\n"
   ]
  },
  {
   "cell_type": "markdown",
   "metadata": {
    "id": "WGo90-dGcPZ8"
   },
   "source": [
    "### Methods and Name Attributes"
   ]
  },
  {
   "cell_type": "markdown",
   "metadata": {
    "id": "rU5lRswCkdLE"
   },
   "source": [
    "The `ForwardNode` class has 3 attributes:\n",
    "- `self.value`: the actual value of the function expression $v_k$ represented by a ForwardNode instance\n",
    "- `self.trace`: the gradient $\\frac{\\partial v_k}{\\partial x_i}$ of this intermediate function expression with respect to the target input variable $x_i$\n",
    "\n",
    "The elementary operations are overloaded in this class. Doing any one of the operation would return a new `ForwardNode` instance that represents the new intermediate function expression, and it would contain the attributes mentioned above.\n",
    "```python\n",
    "v1 = ForwardNode(value1, trace1)\n",
    "v2 = ForwardNode(value2, trace2)\n",
    "```\n",
    "- Addition: $v_k = v_1 + v_2, \\ \\Rightarrow \\ \\dot{v}_k = 1 \\cdot \\dot{v}_1 + 1 \\cdot \\dot{v}_2$  \n",
    "  The new `FowardNode` instance for $v_k$ given by addition of $v_1$ and $v_2$ will have value being the sum of their values and the trace being the sum of their traces.\n",
    "```python\n",
    "vk = ForwardNode(value1+value2, trace1+trace2)\n",
    "```\n",
    "- Subtraction: $v_k = v_1 - v_2, \\ \\Rightarrow \\ \\dot{v}_k = 1 \\cdot \\dot{v}_1 - 1 \\cdot \\dot{v}_2$  \n",
    "  The new `FowardNode` instance for $v_k$ given by subtraction of $v_1$ and $v_2$ will have value being the difference of their values and the trace being the difference of their traces.\n",
    "```python\n",
    "vk = ForwardNode(value1-value2, trace1-trace2)\n",
    "```\n",
    "- Multiplication: $v_k = v_1 \\cdot v_2, \\ \\Rightarrow \\ \\dot{v}_k = v_1 \\cdot \\dot{v}_2 + v_2 \\cdot \\dot{v}_1$  \n",
    "  The new `FowardNode` instance for $v_k$ given by multiplication of $v_1$ and $v_2$ will have value being the product of their values and the trace being the results of the product rule.\n",
    "```python\n",
    "vk = ForwardNode(value1*value2, value1*trace2+value2*trace1)\n",
    "```\n",
    "- Division: $v_k = \\frac{v_1}{v_2}, \\ \\Rightarrow \\ \\dot{v}_k = \\frac{v_2 \\cdot \\dot{v}_1 - v_1 \\cdot \\dot{v}_2}{v_2^2}$  \n",
    "  The new `FowardNode` instance for $v_k$ given by multiplication of $v_1$ and $v_2$ will have value being the quotient of their values and the trace being the results of the quotient rule.\n",
    "```python\n",
    "vk = ForwardNode(value1/value2, (value2*trace1-value1*trace2) / (value2**2))\n",
    "```\n",
    "- Power: $v_k = v_1^{v_2}, \\ \\Rightarrow \\ \\dot{v}_k = v_2 \\cdot v_1^{v_2-1} + $  \n",
    "  The new `FowardNode` instance for $v_k$ given by the power of $v_1$ and $v_2$ will have value being $v_1$ value to the degree of $v_2$ value and the trace being the results of derivation.\n",
    "```python\n",
    "value = value1**value2\n",
    "trace = trace2*(value1**(value2 - 1))*trace1 + (value1**value2)*np.log(value1)*trace2\n",
    "vk = ForwardNode(value, trace)\n",
    "```\n",
    "\n"
   ]
  },
  {
   "cell_type": "code",
   "execution_count": 1,
   "metadata": {
    "id": "TEF9W3HWkKrk"
   },
   "outputs": [],
   "source": [
    "import numpy as np\n",
    "\n",
    "class ForwardNode():\n",
    "    def __init__(self, value, trace = 1.0):\n",
    "        self.value = value\n",
    "        self.trace = trace\n",
    "\n",
    "    def __add__(self, other):\n",
    "        try:\n",
    "            new = ForwardNode(self.value + other.value, self.trace + other.trace)\n",
    "        except AttributeError:\n",
    "            new = ForwardNode(self.value + other, self.trace)\n",
    "        return new\n",
    "\n",
    "    def __radd__(self, other):\n",
    "\n",
    "        return self.__add__(other)\n",
    "\n",
    "    def __sub__(self, other):\n",
    "        \n",
    "        return self.__add__(-1 * other)\n",
    "\n",
    "    def __rsub__(self, other):\n",
    "\n",
    "        return (-1 * self).__add__(other)\n",
    "    \n",
    "    def __mul__(self, other):\n",
    "        try:\n",
    "            new = ForwardNode(self.value * other.value, self.value * other.trace + self.trace + other.value)\n",
    "        except AttributeError:\n",
    "            new = ForwardNode(self.value * other, self.trace * other)\n",
    "        return new\n",
    "\n",
    "    def __rmul__(self, other):\n",
    "        return self.__mul__(other)\n",
    "\n",
    "    def __truediv__(self, other):\n",
    "        try:\n",
    "            new = ForwardNode(self.value / other.value, (self.trace * other.value - self.value * other.trace) / (other.value ** 2))\n",
    "        except AttributeError:\n",
    "            new = ForwardNode(self.value / other, self.trace / other)\n",
    "        return new\n",
    "\n",
    "    def __rtruediv__(self, other):\n",
    "        try:\n",
    "            new = ForwardNode(other.value / self.value, (other.trace * self.value - other.value * self.trace)/(self.value ** 2))\n",
    "        except AttributeError:\n",
    "            new = ForwardNode(other / self.value, other * (-self.value**(-2)) * self.trace)\n",
    "        return new\n",
    "\n",
    "    def __pow__(self, other):\n",
    "        try:\n",
    "            value = self.value ** other.value\n",
    "            trace = other.trace * (self.value ** (other.value - 1)) * self.trace + (self.value ** other.value) * np.log(self.value) * other.trace\n",
    "            new = ForwardNode(value, trace)\n",
    "        except AttributeError:\n",
    "            new = ForwardNode(self.value ** other, self.trace * other * self.value ** (other - 1))\n",
    "        return new\n",
    "\n",
    "    def __rpow__(self, other):\n",
    "        try:\n",
    "            value = other.value ** self.value\n",
    "            trace = self.trace * (other.value ** (self.value - 1)) * other.trace + (other.value ** self.value) * np.log(other.value) * self.trace\n",
    "            new = ForwardNode(value, trace)\n",
    "        except AttributeError:\n",
    "            new = ForwardNode(other ** self.value, other ** self.value * np.log(other) * self.trace)\n",
    "        return new\n",
    "\n",
    "    def __repr__(self):\n",
    "        return 'Value: ' + str(self.value) + ' , Derivative: ' + str(self.trace)\n",
    "\n",
    "    def __str__(self):\n",
    "        return 'Value: ' + str(self.value) + ' , Derivative: ' + str(self.trace)\n"
   ]
  },
  {
   "cell_type": "markdown",
   "metadata": {
    "id": "ZrWXSKu_i6HQ"
   },
   "source": [
    "The `ReverseNode` class has 3 attributes:\n",
    "- `self.value`: the actual value of the function expression $v_k$ represented by a ReverseNode instance\n",
    "- `self.adjoint`: the gradient $\\frac{\\partial f}{\\partial v_k}$ of the target function expression with respect to the intermediate variable $v_k$\n",
    "- `self.children`: a list to record the node's children by storing the tuples containing ($\\frac{\\partial v_n}{\\partial v_k}$, child node $v_n$)\n",
    "\n",
    "It has a function `gradient()` to calculate the gradient $\\frac{df}{dv_k}$ using recursion\n",
    "- It is exactly calculating $$\\bar{v}_k = \\frac{\\partial{f}}{\\partial{v_k}} = \\sum_{v_n \\in \\text{child}(v_k)} \\frac{\\partial{f}}{\\partial{v_n}} \\frac{\\partial{v_n}}{\\partial{v_k}} = \\sum_{v_n \\in \\text{child}(v_k)}  \\bar{v}_n \\frac{\\partial{v_n}}{\\partial{v_k}}$$\n",
    "\n",
    "The elementary operations are overloaded in this class:\n",
    "- Addition, subtraction, multiplication, division, and power operations are overloaded to accomodate the node structure.\n",
    "- Doing any one of the operation would return a new `ReverseNode` instance that represents the new intermediate function expression, and it would contain the attributes mentioned above.\n",
    "\n",
    "Further explainations and more function overloading will be added in the future."
   ]
  },
  {
   "cell_type": "code",
   "execution_count": 2,
   "metadata": {
    "id": "DyoyhLLhi6WX"
   },
   "outputs": [],
   "source": [
    "class ReverseNode():\n",
    "    def __init__(self, value):\n",
    "        self.value = value\n",
    "        self.children = []\n",
    "        self.adjoint = 1.0\n",
    "\n",
    "    def gradient(self):\n",
    "        if len(self.children) > 0:\n",
    "            self.adjoint = sum(coef * child.gradient() for coef, child in self.children)\n",
    "        return self.adjoint\n",
    "\n",
    "    def __add__(self, other):\n",
    "        new = ReverseNode(self.value + other.value)\n",
    "        self.children.append((1.0, new))\n",
    "        other.children.append((1.0, new))\n",
    "        return new\n",
    "\n",
    "    def __sub__(self, other):\n",
    "        new = ReverseNode(self.value - other.value)\n",
    "        self.children.append((1.0, new))\n",
    "        other.children.append((-1.0, new))\n",
    "        return new\n",
    "\n",
    "    def __mul__(self, other):\n",
    "        new = ReverseNode(self.value * other.value)\n",
    "        self.children.append((other.value, new))\n",
    "        other.children.append((self.value, new))\n",
    "        return new\n",
    "\n",
    "    def __pow__(self, other):\n",
    "        new = ReverseNode((self.value) ** (other.value))\n",
    "        self.children.append((other.value * ((self.value) ** (other.value - 1)), new))\n",
    "        other.children.append((np.log(self.value) * (self.value) ** (other.value), new))\n",
    "        return new\n"
   ]
  },
  {
   "cell_type": "markdown",
   "metadata": {
    "id": "7rycz2LE9Tur"
   },
   "source": [
    "Other elementary operations are overloaded outside of the class. They take input of `ForwardNode` or `ReverseNode`. Doing any one of the operation would return a new `ForwardNode` or `ReverseNode` instance that represents the new intermediate function expression, and it would contain the attributes mentioned above.\n",
    "```python\n",
    "v = ForwardNode(value, trace)\n",
    "```\n",
    "- Constant: $v_k = constant, \\ \\Rightarrow \\ \\dot{v}_k = 0$  \n",
    "For a node $v_k$ that represents a constant, the trace $\\frac{\\partial v_k}{\\partial x_i} = 0$ in forward mode and the adjoint $\\frac{\\partial f}{\\partial v_k} = 0$ in reverse mode.\n",
    "```python\n",
    "value = 12\n",
    "vk = ForwardNode(value, 0)\n",
    "vk = ReverseNode(value, 0)\n",
    "```\n",
    "\n",
    "- Sine : $v_k = \\sin(v), \\ \\Rightarrow \\ \\dot{v}_k = \\cos(v) \\cdot \\dot{v}, \\ \\bar{v_k} = \\bar{v} \\frac{\\partial{v}}{\\partial{v_k}}$, which can only be computed after the whole problem has been set up properly.\n",
    "```python\n",
    "vk_F = ForwardNode(np.sin(value), trace1*np.cos(value)\n",
    "vk_R = ReverseNode(np.sin(value))\n",
    "v.children.append((np.cos(value), vk_R)\n",
    "```\n",
    "\n",
    "- Cosine: $v_k = \\cos(v_1), \\ \\Rightarrow \\ \\dot{v}_k = -\\sin(v_1) \\cdot \\dot{v}_1$\n",
    "```python\n",
    "vk_F = ForwardNode(np.cos(value), -trace*np.sin(value)\n",
    "```\n",
    "\n",
    "- Natural log: $v_k = \\log(v), \\ \\Rightarrow \\ \\dot{v}_k = \\frac{1}{v} \\cdot \\dot{v}$\n",
    "```python\n",
    "vk_F = ForwardNode(np.log(value), trace/value)\n",
    "```\n",
    "\n",
    "- Exponential: $v_k = \\exp(v), \\ \\Rightarrow \\ \\dot{v}_k = \\exp(v) \\cdot \\dot{v}$\n",
    "```python\n",
    "vk_F = ForwardNode(np.exp(value), trace1*np.exp(value))\n",
    "```\n",
    "\n",
    "- Square root: $v_k = \\sqrt{v}, \\ \\Rightarrow \\ \\dot{v}_k = \\frac{1}{2} v^{-\\frac{1}{2}} \\cdot \\dot{v}$\n",
    "```python\n",
    "vk_F = ForwardNode(value**0.5, 0.5*trace*value**(-0.5))\n",
    "```\n",
    "\n",
    "- Tangent: $v_k = \\tan{v}, \\ \\Rightarrow \\ \\dot{v}_k = \\frac{1}{\\cos^2(v)} \\cdot \\dot{v}$\n",
    "```python\n",
    "vk_F = ForwardNode(np.tan(value), trace/np.cos(value)**2)\n",
    "```\n",
    "\n",
    "More explanations about the other overloaded functions and more details regarding their usage for `ReverseNode` class will be added in the future documentation.\n",
    "\n"
   ]
  },
  {
   "cell_type": "code",
   "execution_count": 3,
   "metadata": {
    "id": "Pjro9UyKkcE_"
   },
   "outputs": [],
   "source": [
    "def constant(val, mode='forward'):\n",
    "    if mode == 'forward':\n",
    "        new = ForwardNode(val, 0)\n",
    "    elif mode == 'reverse':\n",
    "        new = ReverseNode(val)\n",
    "        new.adjoint = 0\n",
    "    return new\n",
    "\n",
    "\n",
    "def sin(node):\n",
    "    if type(node) is ForwardNode:\n",
    "        new = ForwardNode(np.sin(node.value), node.trace * np.cos(node.value))\n",
    "        # new.depends.append((np.cos(node.value), node))  # sin(x) -> d/dx = cos(x)\n",
    "    elif type(node) is ReverseNode:\n",
    "        new = ReverseNode(np.sin(node.value))\n",
    "        node.children.append((np.cos(node.value), new))  # sin(x) -> d/dx = cos(x)\n",
    "    return new\n",
    "\n",
    "\n",
    "def cos(node):\n",
    "    if type(node) is ForwardNode:\n",
    "        new = ForwardNode(np.cos(node.value), -1 * node.trace * np.sin(node.value))\n",
    "        # new.depends.append((-np.sin(node.value), node))  # cos(x) -> d/dx = -sin(x)\n",
    "    elif type(node) is ReverseNode:\n",
    "        new = ReverseNode(np.cos(node.value))\n",
    "        node.children.append((-np.sin(node.value), new))  # cos(x) -> d/dx = -sin(x)\n",
    "    return new\n",
    "\n",
    "\n",
    "def log(node):\n",
    "    if type(node) is ForwardNode:\n",
    "        new = ForwardNode(np.log(node.value), node.trace / node.value)\n",
    "        # new.depends.append((1.0/node.value, node))  # log(x) -> d/dx = 1/x\n",
    "    elif type(node) is ReverseNode:\n",
    "        new = ReverseNode(np.log(node.value))\n",
    "        node.children.append((1.0 / node.value, new))  # log(x) -> d/dx = 1/x\n",
    "    return new\n",
    "\n",
    "\n",
    "def exp(node):\n",
    "    if type(node) is ForwardNode:\n",
    "        new = ForwardNode(np.exp(node.value), node.trace * np.exp(node.value))\n",
    "        # new.depends.append((np.exp(node.value), node))  # e^x -> d/dx = e^x\n",
    "    elif type(node) is ReverseNode:\n",
    "        new = ReverseNode(np.exp(node.value))\n",
    "        node.children.append((np.exp(node.value), new))  # e^x -> d/dx = e^x\n",
    "    return new\n",
    "\n",
    "\n",
    "def sqrt(node):\n",
    "    if node.value < 0:\n",
    "        raise ValueError(f\"Invalid value: cannot calculate the square root for {node.value}.\")\n",
    "    elif type(node) is ForwardNode:\n",
    "        new = ForwardNode(node.value ** 0.5, 0.5 * node.trace * node.value ** -0.5)\n",
    "        # new.depends.append((node.value ** -0.5, node))  # sqrt(x) -> d/dx = 1/2 * x ^ -1/2\n",
    "    elif type(node) is ReverseNode:\n",
    "        new = ReverseNode(node.value ** 0.5)\n",
    "        node.children.append((node.value ** -0.5, new))  # sqrt(x) -> d/dx = 1/2 * x ^ -1/2\n",
    "    return new\n",
    "\n",
    "\n",
    "def tan(node):\n",
    "    if node.value % (np.pi / 2) == 0 and node.value % np.pi > 0:\n",
    "        raise ValueError(f\"Invalid value: the tangent for {node.value} doesn't exist.\")\n",
    "    elif type(node) is ForwardNode:\n",
    "        new = ForwardNode(np.tan(node.value), node.trace / np.cos(node.value) ** 2)\n",
    "        # new.depends.append((1 / np.cos(node.value) ** 2, node))  # tan(x) -> d/dx = 1 / cos(x) ^ 2\n",
    "    elif type(node) is ReverseNode:\n",
    "        new = ReverseNode(np.tan(node.value))\n",
    "        node.children.append((1 / np.cos(node.value) ** 2, new))  # tan(x) -> d/dx = 1 / cos(x) ^ 2\n",
    "    return new\n",
    "\n",
    "\n",
    "def arctan(node):\n",
    "    if type(node) is ForwardNode:\n",
    "        new = ForwardNode(np.arctan(node.value), node.trace / (1 + node.value ** 2))\n",
    "        # new.depends.append((1 / (1 + node.value ** 2), node)) # arctan(x) -> d/dx = 1 / 1 + x^2\n",
    "    elif type(node) is ReverseNode:\n",
    "        new = ReverseNode(np.arctan(node.value))\n",
    "        node.children.append((1 / (1 + node.value ** 2), new))  # arctan(x) -> d/dx = 1 / 1 + x^2\n",
    "    return new\n",
    "\n",
    "\n",
    "def arcsin(node):\n",
    "    if np.abs(node.value) >= 1:\n",
    "        raise ValueError(f\"Invalid value: derivative of arcsin for {node.value} doesn't exist.\")\n",
    "    elif type(node) is ForwardNode:\n",
    "        new = ForwardNode(np.arcsin(node.value), 1 / np.sqrt(1 - node.value ** 2))\n",
    "        # new.depends.append((1 / (1 + node.value ** 2), node)) # arctan(x) -> d/dx = 1 / 1 + x^2\n",
    "    elif type(node) is ReverseNode:\n",
    "        new = ReverseNode(np.arcsin(node.value))\n",
    "        node.children.append((1 / np.sqrt(1 - node.value ** 2)), new)  # arctan(x) -> d/dx = 1 / 1 + x^2\n",
    "    return new\n",
    "\n",
    "\n",
    "def arccos(node):\n",
    "    if np.abs(node.value) >= 1:\n",
    "        raise ValueError(f\"Invalid value: derivative of arccos for {node.value} doesn't exist.\")\n",
    "    elif type(node) is ForwardNode:\n",
    "        new = ForwardNode(np.arccos(node.value), -1 * node.trace * (1 / np.sqrt(1 - node.value ** 2)))\n",
    "        # new.depends.append((1 / (1 + node.value ** 2), node)) # arctan(x) -> d/dx = 1 / 1 + x^2\n",
    "    elif type(node) is ReverseNode:\n",
    "        new = ReverseNode(np.arccos(node.value))\n",
    "        node.children.append((1 / np.sqrt(1 - node.value ** 2), new))  # arctan(x) -> d/dx = 1 / 1 + x^2\n",
    "    return new\n",
    "\n",
    "\n",
    "def tanh(node):\n",
    "    if type(node) is ForwardNode:\n",
    "        new = ForwardNode(np.tanh(node.value), (1 / np.cosh(node.value)) ** 2 * node.trace)\n",
    "        # new.depends.append((1 / (1 + node.value ** 2), node)) # arctan(x) -> d/dx = 1 / 1 + x^2\n",
    "    elif type(node) is ReverseNode:\n",
    "        new = ReverseNode(np.tanh(node.value))\n",
    "        node.children.append(((1 / np.cosh(node.value)) ** 2, new))  # arctan(x) -> d/dx = 1 / 1 + x^2\n",
    "    return new\n",
    "\n",
    "\n",
    "def sinh(node):\n",
    "    if type(node) is ForwardNode:\n",
    "        new = ForwardNode(np.sinh(node.value), np.cosh(node.value) * node.trace)\n",
    "        # new.depends.append((1 / (1 + node.value ** 2), node)) # arctan(x) -> d/dx = 1 / 1 + x^2\n",
    "    elif type(node) is ReverseNode:\n",
    "        new = ReverseNode(np.sinh(node.value))\n",
    "        node.children.append((np.cosh(node.value), new))  # arctan(x) -> d/dx = 1 / 1 + x^2\n",
    "    return new\n",
    "\n",
    "\n",
    "def cosh(node):\n",
    "    if type(node) is ForwardNode:\n",
    "        new = ForwardNode(np.cosh(node.value), np.sinh(node.value) * node.trace)\n",
    "        # new.depends.append((1 / (1 + node.value ** 2), node)) # arctan(x) -> d/dx = 1 / 1 + x^2\n",
    "    elif type(node) is ReverseNode:\n",
    "        new = ReverseNode(np.cosh(node.value))\n",
    "        node.children.append((np.sinh(node.value), new))  # arctan(x) -> d/dx = 1 / 1 + x^2\n",
    "    return new\n",
    "\n",
    "\n",
    "def log_base(node, base=10):\n",
    "    if node.value < 0:\n",
    "        raise ValueError(f\"Invalid Value: the log operation for {node.value} doesn't exist.\")\n",
    "    elif type(node) is ForwardNode:\n",
    "        new = ForwardNode(np.log(node.value) / np.log(base), 1 / (node.value * np.log(base)) * node.trace)\n",
    "        # new.depends.append((1 / (1 + node.value ** 2), node)) # arctan(x) -> d/dx = 1 / 1 + x^2\n",
    "    elif type(node) is ReverseNode:\n",
    "        new = ReverseNode(np.log(node.value))\n",
    "        node.children.append((1 / (node.value * np.log(base)), new))  # arctan(x) -> d/dx = 1 / 1 + x^2\n",
    "    return new\n",
    "\n",
    "\n",
    "def log_base(node, base=10):\n",
    "    if node.value < 0:\n",
    "        raise ValueError(f\"Invalid Value: the log operation for {node.value} doesn't exist.\")\n",
    "    elif type(node) is ForwardNode:\n",
    "        new = ForwardNode(np.log(node.value) / np.log(base), 1 / (node.value * np.log(base)) * node.trace)\n",
    "        # new.depends.append((1 / (1 + node.value ** 2), node)) # arctan(x) -> d/dx = 1 / 1 + x^2\n",
    "    elif type(node) is ReverseNode:\n",
    "        new = ReverseNode(np.log(node.value))\n",
    "        node.children.append((1 / (node.value * np.log(base)), new))  # arctan(x) -> d/dx = 1 / 1 + x^2\n",
    "    return new\n",
    "\n",
    "\n",
    "def cot(node):\n",
    "    if node.value % np.pi == 0:\n",
    "        raise ValueError(f\"Invalid Value: the cotangent operation for {node.value} doesn't exist.\")\n",
    "    elif type(node) is ForwardNode:\n",
    "        new = ForwardNode(1 / np.tan(node.value), (1 / np.sin(node.value)) ** 2 * node.trace)\n",
    "        # new.depends.append((1 / (1 + node.value ** 2), node)) # arctan(x) -> d/dx = 1 / 1 + x^2\n",
    "    elif type(node) is ReverseNode:\n",
    "        new = ReverseNode(1 / np.tan(node.value))\n",
    "        node.children.append((1 / np.sin(node.value) ** 2, new))  # arctan(x) -> d/dx = 1 / 1 + x^2\n",
    "    return new\n",
    "\n",
    "\n",
    "def sec(node):\n",
    "    if node.value % (np.pi / 2) == 0 and node.value % np.pi > 0:\n",
    "        raise ValueError(f\"Invalid Value: the secant operation for {node.value} doesn't exist.\")\n",
    "    elif type(node) is ForwardNode:\n",
    "        new = 1 / cos(node)\n",
    "        # new.depends.append((1 / (1 + node.value ** 2), node)) # arctan(x) -> d/dx = 1 / 1 + x^2\n",
    "    elif type(node) is ReverseNode:\n",
    "        new = ReverseNode(1 / np.tan(node.value))\n",
    "        node.children.append((1 / np.sin(node.value) ** 2, new))  # arctan(x) -> d/dx = 1 / 1 + x^2\n",
    "    return new\n"
   ]
  },
  {
   "cell_type": "markdown",
   "metadata": {
    "id": "nu-qrpXo8Rx6"
   },
   "source": [
    "Then, wrap up everything to be in one function so that a one line call can give the derivative of the target function expression. (Here for now our AD only works for 1-D 1-variable function.)\n",
    "\n",
    "The input function should be typed in string. Input as python function will be possible in future implementation."
   ]
  },
  {
   "cell_type": "code",
   "execution_count": 4,
   "metadata": {
    "id": "ST1Dlfck9reS"
   },
   "outputs": [],
   "source": [
    "import re"
   ]
  },
  {
   "cell_type": "code",
   "execution_count": 5,
   "metadata": {
    "id": "YBDnZ2SF-NBo"
   },
   "outputs": [],
   "source": [
    "def derive(func_expr, varname, value, mode='reverse'):\n",
    "    if mode == 'forward':\n",
    "        x = ForwardNode(value)\n",
    "        y = eval(re.sub('(\\d+\\.*\\d*)', f'constant(\\\\1, mode=\\'{mode}\\')', func_expr))\n",
    "        val, grad = y.value, y.trace\n",
    "    elif mode == 'reverse':\n",
    "        x = ReverseNode(value)\n",
    "        y = eval(re.sub('(\\d+\\.*\\d*)', f'constant(\\\\1, mode=\\'{mode}\\')', func_expr))\n",
    "        val, grad = y.value, x.gradient()\n",
    "    \n",
    "    return val, grad"
   ]
  },
  {
   "cell_type": "code",
   "execution_count": 6,
   "metadata": {
    "colab": {
     "base_uri": "https://localhost:8080/"
    },
    "id": "jzDxTLHZ-OBw",
    "outputId": "b7a4ee65-d756-4394-fff7-b86db59e0050"
   },
   "outputs": [
    {
     "data": {
      "text/plain": [
       "(4.0, -3.0)"
      ]
     },
     "execution_count": 6,
     "metadata": {},
     "output_type": "execute_result"
    }
   ],
   "source": [
    "derive(func_expr='3*sin(x)+4', varname='x', value=np.pi, mode='forward')"
   ]
  },
  {
   "cell_type": "code",
   "execution_count": 7,
   "metadata": {
    "colab": {
     "base_uri": "https://localhost:8080/"
    },
    "id": "dJhIey7I-Plp",
    "outputId": "98cb1aac-1b2f-4155-dde6-ed20ad9133ac"
   },
   "outputs": [
    {
     "data": {
      "text/plain": [
       "(4.0, -3.0)"
      ]
     },
     "execution_count": 7,
     "metadata": {},
     "output_type": "execute_result"
    }
   ],
   "source": [
    "derive(func_expr='3*sin(x)+4', varname='x', value=np.pi, mode='reverse')"
   ]
  },
  {
   "cell_type": "markdown",
   "metadata": {
    "id": "WvxLbeU7M3hK"
   },
   "source": [
    "### External Dependencies\n",
    "\n",
    "We will rely on the latest version of numpy. Other required dependencies will be the latest version of matplotlib, to be used specifically for outputting the visual representation of our data structures."
   ]
  },
  {
   "cell_type": "markdown",
   "metadata": {
    "id": "0ro-iUa_M6_0"
   },
   "source": [
    "### How will we deal with elementary functions?\n",
    "\n",
    "Most elementary functions can be obtained from the numpy dependency. For more niche arithmetic functions that are not included in the package (or have definitions that are different from the standard implementations), we will likely overload with our home-grown implementations."
   ]
  },
  {
   "cell_type": "markdown",
   "metadata": {
    "id": "Lno6KdzRM_e_"
   },
   "source": [
    "## License\n",
    "\n",
    "The license that we decided to choose is the MIT License. We chose this license because our research showed that this license is usually the one that developers choose if they want their software to be easily accessible and quickly distributed to other developers and others in the community. We ultimately settled for this license because we believe in allowing other developers to freely use the software written for their desired purposes."
   ]
  },
  {
   "cell_type": "markdown",
   "metadata": {
    "id": "HzRnvym37NTD"
   },
   "source": [
    "## Future Features\n",
    "\n",
    "1. More functions to be overloaded for the ReverseNode class.\n",
    "\n",
    "2. Modify the whole thing so that the derivation function can take in python function as input but not limited to function expression string input.\n",
    "\n",
    "3. Drawing the graph structure of AD, with nodes (intermediate functions/variables) connected by arrows (elementary operations)\n",
    "\n",
    "4. A more developed version of AD that is able to take in multivariate expression or vector containing multivariate expressions to calculate gradients or Jacobians.\n"
   ]
  },
  {
   "cell_type": "markdown",
   "metadata": {},
   "source": [
    "## Broader Impact and Inclusivity Statement"
   ]
  },
  {
   "cell_type": "markdown",
   "metadata": {},
   "source": [
    "Over the past few years, people have put in an increased effort to bridge the gap in STEM between underrepresented groups and inclusivity. However, even with this increased effort there is much more that can and should be done to fill this gap. While creating our software, we kept in mind that people from different backgrounds and experience levels would access this. Therefore, we tried to add docstrings and the proper documentation in order to make this software as accessible and understandable as possible, especially for those who might not be as familiar with Automatic Differentiation, Python, or this type of software in general. However, we do understand that there is more work that needs to be done to make our software more accessible and user-friendly. Currently, our software is targeted towards those who are familiar with English mathematical terms and symbols. Our software is catered towards the average English speaker. Moving forward, to make our software more inclusive, we would try to make it more accessible for those who are not as familiar with the English language."
   ]
  },
  {
   "cell_type": "markdown",
   "metadata": {},
   "source": [
    "We understand that our software has both positive and negative implications. However, we believe the positive implications outweigh the negative ones. Our team has simply found one way to tackle the problem using Automatic Differentiation and believe that we are adding to the diversity of technology in the community by contributing our software."
   ]
  },
  {
   "cell_type": "markdown",
   "metadata": {},
   "source": [
    "Furthermore, Harvard's diversity statement says, \"[their] commitment to diversity in all forms is rooted in [the] fundamental belief that engaging with unfamiliar ideas, perspectives, cultures, and people creates the conditions for dramatic and meaningful growth.\" Our team believes that by engaging with the software we have created, we are sharing our ideas and perspectives on a certain way to solve a problem. However, we are open to suggestions and any feedback our users have. We are constantly seeking to improve the way we implemented our software."
   ]
  },
  {
   "cell_type": "code",
   "execution_count": null,
   "metadata": {},
   "outputs": [],
   "source": []
  }
 ],
 "metadata": {
  "colab": {
   "collapsed_sections": [],
   "name": "Documentation.ipynb",
   "provenance": [],
   "toc_visible": true
  },
  "kernelspec": {
   "display_name": "Python 3",
   "language": "python",
   "name": "python3"
  },
  "language_info": {
   "codemirror_mode": {
    "name": "ipython",
    "version": 3
   },
   "file_extension": ".py",
   "mimetype": "text/x-python",
   "name": "python",
   "nbconvert_exporter": "python",
   "pygments_lexer": "ipython3",
   "version": "3.7.4"
  }
 },
 "nbformat": 4,
 "nbformat_minor": 1
}
